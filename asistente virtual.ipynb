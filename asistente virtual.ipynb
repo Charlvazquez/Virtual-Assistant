{
 "cells": [
  {
   "cell_type": "code",
   "execution_count": 1,
   "metadata": {},
   "outputs": [],
   "source": [
    "import speech_recognition as sr\n",
    "import time\n",
    "from time import ctime\n",
    "import webbrowser"
   ]
  },
  {
   "cell_type": "code",
   "execution_count": 23,
   "metadata": {},
   "outputs": [
    {
     "name": "stdout",
     "output_type": "stream",
     "text": [
      "Como puedo ayudarte\n",
      "OK Google\n",
      "que quieres buscar?\n",
      "cats cats\n",
      "esto estas buscandocats cats\n"
     ]
    }
   ],
   "source": [
    "r = sr.Recognizer()\n",
    "\n",
    "lang =\"es-ES\"\n",
    "\n",
    "r = sr.Recognizer()\n",
    "\n",
    "def record_audio(ask = False):\n",
    "    with sr.Microphone() as source:\n",
    "        if ask:\n",
    "            print(ask)\n",
    "        audio = r.listen(source)\n",
    "        voice_data = ''\n",
    "        try:\n",
    "            voice_data = r.recognize_google(audio)\n",
    "            print(voice_data)\n",
    "        except sr.UnknownValueError:\n",
    "            print('Disculpa ,no lo entiendo')\n",
    "        except sr.RequestError:\n",
    "            print('Disculpa, mi servicio de voz esta fallando')\n",
    "        return voice_data\n",
    "    \n",
    "def respond(voice_data):\n",
    "    if 'cual es tu nombre' in voice_data:\n",
    "        print('Mi nombre es komi')\n",
    "    if 'que hora es' in voice_data:\n",
    "        print(ctime())\n",
    "    if 'OK Google' in voice_data:\n",
    "        search = record_audio('que quieres buscar?')\n",
    "        url ='https://google.com/search?q=' + search\n",
    "        webbrowser.get().open(url)\n",
    "        print('esto estas buscando' + search)\n",
    "\n",
    "print('Como puedo ayudarte')\n",
    "voice_data = record_audio()\n",
    "respond(voice_data)\n",
    "       "
   ]
  },
  {
   "cell_type": "code",
   "execution_count": null,
   "metadata": {},
   "outputs": [],
   "source": []
  },
  {
   "cell_type": "code",
   "execution_count": null,
   "metadata": {},
   "outputs": [],
   "source": []
  },
  {
   "cell_type": "code",
   "execution_count": null,
   "metadata": {},
   "outputs": [],
   "source": []
  }
 ],
 "metadata": {
  "kernelspec": {
   "display_name": "Python 3",
   "language": "python",
   "name": "python3"
  },
  "language_info": {
   "codemirror_mode": {
    "name": "ipython",
    "version": 3
   },
   "file_extension": ".py",
   "mimetype": "text/x-python",
   "name": "python",
   "nbconvert_exporter": "python",
   "pygments_lexer": "ipython3",
   "version": "3.7.6"
  }
 },
 "nbformat": 4,
 "nbformat_minor": 4
}
